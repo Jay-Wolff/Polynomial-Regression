{
  "nbformat": 4,
  "nbformat_minor": 0,
  "metadata": {
    "colab": {
      "provenance": [],
      "include_colab_link": true
    },
    "kernelspec": {
      "name": "python3",
      "display_name": "Python 3"
    },
    "language_info": {
      "name": "python"
    }
  },
  "cells": [
    {
      "cell_type": "markdown",
      "metadata": {
        "id": "view-in-github",
        "colab_type": "text"
      },
      "source": [
        "<a href=\"https://colab.research.google.com/github/Jay-Wolff/Polynomial-Regression/blob/main/Learning_Process_polynomial_regression.ipynb\" target=\"_parent\"><img src=\"https://colab.research.google.com/assets/colab-badge.svg\" alt=\"Open In Colab\"/></a>"
      ]
    },
    {
      "cell_type": "markdown",
      "source": [
        "The Learning Process\n",
        "\n",
        " **polynomial regression** model on the temperature data. (data set from class)"
      ],
      "metadata": {
        "id": "4eSxEMC1cqxs"
      }
    },
    {
      "cell_type": "code",
      "source": [
        "import torch\n",
        "\n",
        "t_c = torch.tensor([0.5, 14.0, 15.0, 28.0, 11.0, 8.0, 3.0, -4.0, 6.0, 13.0, 21.0])\n",
        "t_u = torch.tensor([35.7, 55.9, 58.2, 81.9, 56.3, 48.9, 33.9, 21.8, 48.4, 60.4, 68.4])"
      ],
      "metadata": {
        "id": "WI-qoUaJc3X6"
      },
      "execution_count": null,
      "outputs": []
    },
    {
      "cell_type": "markdown",
      "source": [
        "a. Define a `model(t_u, w1, w2, b)` function using the following expression:\n",
        "\n",
        "`prediction = w2 * t_u ** 2 + w1 * t_u + b`.\n",
        "\n",
        "This expression claims that the relationship between the Celsuis degree and the unknown degree is a polynomial of degree 2."
      ],
      "metadata": {
        "id": "nuKYdmenc1Zr"
      }
    },
    {
      "cell_type": "code",
      "source": [
        "def model(t_u,w1,w2,b):\n",
        "  return w2 * t_u ** 2 + w1 * t_u + b"
      ],
      "metadata": {
        "id": "woSw1_EsdbiX"
      },
      "execution_count": null,
      "outputs": []
    },
    {
      "cell_type": "markdown",
      "source": [
        "The loss function remains the same. The MSE loss can still be used to measure the errors made by the polynomial model."
      ],
      "metadata": {
        "id": "-A1jAXzAdcKS"
      }
    },
    {
      "cell_type": "code",
      "source": [
        "def loss_fn(t_p, t_c):\n",
        "    squared_errors = (t_p - t_c) ** 2\n",
        "    return squared_errors.mean()"
      ],
      "metadata": {
        "id": "hH9GUvaEdpu1"
      },
      "execution_count": null,
      "outputs": []
    },
    {
      "cell_type": "markdown",
      "source": [
        "b. Create a SGD optimizer object using `torch.optim.SGD`."
      ],
      "metadata": {
        "id": "CAqbO11LeEse"
      }
    },
    {
      "cell_type": "code",
      "source": [
        "params = torch.tensor([1.0, 1.0, 1.0], requires_grad=True)\n",
        "learning_rate = 1e-5\n",
        "optimizer = torch.optim.SGD([params], lr=learning_rate)"
      ],
      "metadata": {
        "id": "NMnQKFX9eLQY"
      },
      "execution_count": null,
      "outputs": []
    },
    {
      "cell_type": "markdown",
      "source": [
        "c. Define a function `training_loop(n_eochs, learning_rate, params, t_u, t_c)` to perform gradient descent on the training data."
      ],
      "metadata": {
        "id": "Huno9eHAdrQM"
      }
    },
    {
      "cell_type": "code",
      "source": [
        "#to visualize the model:\n",
        "import matplotlib.pyplot as plt\n",
        "\n",
        "def training_loop(n_epochs, optimizer, learning_rate, params, t_u, t_c):\n",
        "    losses = []\n",
        "    for epoch in range(1, n_epochs + 1):\n",
        "      t_p = model(t_u, *params)\n",
        "      loss = loss_fn(t_p, t_c)\n",
        "      losses.append(loss.item())\n",
        "\n",
        "      optimizer.zero_grad()\n",
        "      loss.backward()\n",
        "      optimizer.step()\n",
        "\n",
        "      if epoch % 100 == 0:\n",
        "          print('Epoch %d, Loss %f' % (epoch, float(loss)))\n",
        "\n",
        "    plt.plot(losses)\n",
        "    plt.xlabel('Epochs')\n",
        "    plt.ylabel('Loss')\n",
        "    plt.title('Training Loss over Epochs')\n",
        "    plt.show()"
      ],
      "metadata": {
        "id": "J29eHTt5d8WG"
      },
      "execution_count": null,
      "outputs": []
    },
    {
      "cell_type": "markdown",
      "source": [
        "d. Perform the training loop with 2000 epochs. Display the final MSE loss. (You may also want to visualize the model using `matplotlib`)."
      ],
      "metadata": {
        "id": "E8rhGXjvd87e"
      }
    },
    {
      "cell_type": "code",
      "source": [
        "\n",
        "# Modify the training process to actually reduce the loss.\n",
        "training_loop(\n",
        "    n_epochs = 2000,\n",
        "    optimizer = optimizer,\n",
        "    learning_rate = 1e-5,\n",
        "    # params = torch.tensor([1.0, 0.0]),\n",
        "    params = params,\n",
        "    t_u = t_u,\n",
        "    t_c = t_c)"
      ],
      "metadata": {
        "id": "8TN-0HhzeoBx",
        "colab": {
          "base_uri": "https://localhost:8080/",
          "height": 829
        },
        "outputId": "17ee81a5-ffbf-4a88-c295-c7bb401ac49f"
      },
      "execution_count": null,
      "outputs": [
        {
          "output_type": "stream",
          "name": "stdout",
          "text": [
            "Epoch 100, Loss nan\n",
            "Epoch 200, Loss nan\n",
            "Epoch 300, Loss nan\n",
            "Epoch 400, Loss nan\n",
            "Epoch 500, Loss nan\n",
            "Epoch 600, Loss nan\n",
            "Epoch 700, Loss nan\n",
            "Epoch 800, Loss nan\n",
            "Epoch 900, Loss nan\n",
            "Epoch 1000, Loss nan\n",
            "Epoch 1100, Loss nan\n",
            "Epoch 1200, Loss nan\n",
            "Epoch 1300, Loss nan\n",
            "Epoch 1400, Loss nan\n",
            "Epoch 1500, Loss nan\n",
            "Epoch 1600, Loss nan\n",
            "Epoch 1700, Loss nan\n",
            "Epoch 1800, Loss nan\n",
            "Epoch 1900, Loss nan\n",
            "Epoch 2000, Loss nan\n"
          ]
        },
        {
          "output_type": "display_data",
          "data": {
            "text/plain": [
              "<Figure size 640x480 with 1 Axes>"
            ],
            "image/png": "[encoded data removed]"
          },
          "metadata": {}
        }
      ]
    }
  ]
}